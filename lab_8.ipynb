{
  "nbformat": 4,
  "nbformat_minor": 0,
  "metadata": {
    "colab": {
      "provenance": [],
      "authorship_tag": "ABX9TyMNIu53qYFvfnYd3Oz3dEB1",
      "include_colab_link": true
    },
    "kernelspec": {
      "name": "python3",
      "display_name": "Python 3"
    },
    "language_info": {
      "name": "python"
    }
  },
  "cells": [
    {
      "cell_type": "markdown",
      "metadata": {
        "id": "view-in-github",
        "colab_type": "text"
      },
      "source": [
        "<a href=\"https://colab.research.google.com/github/SahrsRoyal/Sahrs-AI-Lab-Report/blob/main/lab_8.ipynb\" target=\"_parent\"><img src=\"https://colab.research.google.com/assets/colab-badge.svg\" alt=\"Open In Colab\"/></a>"
      ]
    },
    {
      "cell_type": "code",
      "source": [
        "\n",
        "\n",
        "import numpy as np\n",
        "\n",
        "\n",
        "def find_neighbours(state, landscape):\n",
        "    neighbours = []\n",
        "    dim = landscape.shape\n",
        "\n",
        "    # left neighbour\n",
        "    if state[0] != 0:\n",
        "        neighbours.append((state[0] - 1, state[1]))\n",
        "\n",
        "    # right neighbour\n",
        "    if state[0] != dim[0] - 1:\n",
        "        neighbours.append((state[0] + 1, state[1]))\n",
        "\n",
        "    # top neighbour\n",
        "    if state[1] != 0:\n",
        "        neighbours.append((state[0], state[1] - 1))\n",
        "\n",
        "    # bottom neighbour\n",
        "    if state[1] != dim[1] - 1:\n",
        "        neighbours.append((state[0], state[1] + 1))\n",
        "\n",
        "    # top left\n",
        "    if state[0] != 0 and state[1] != 0:\n",
        "        neighbours.append((state[0] - 1, state[1] - 1))\n",
        "\n",
        "    # bottom left\n",
        "    if state[0] != 0 and state[1] != dim[1] - 1:\n",
        "        neighbours.append((state[0] - 1, state[1] + 1))\n",
        "\n",
        "    # top right\n",
        "    if state[0] != dim[0] - 1 and state[1] != 0:\n",
        "        neighbours.append((state[0] + 1, state[1] - 1))\n",
        "\n",
        "    # bottom right\n",
        "    if state[0] != dim[0] - 1 and state[1] != dim[1] - 1:\n",
        "        neighbours.append((state[0] + 1, state[1] + 1))\n",
        "\n",
        "    return neighbours\n",
        "\n",
        "\n",
        "# Current optimization objective: local/global maximum\n",
        "def hill_climb(curr_state, landscape):\n",
        "    neighbours = find_neighbours(curr_state, landscape)\n",
        "    bool\n",
        "    ascended = False\n",
        "    next_state = curr_state\n",
        "    for neighbour in neighbours: #Find the neighbour with the greatest value\n",
        "        if landscape[neighbour[0]][neighbour[1]] > landscape[next_state[0]][next_state[1]]:\n",
        "            next_state = neighbour\n",
        "            ascended = True\n",
        "\n",
        "    return ascended, next_state\n",
        "\n",
        "\n",
        "def __main__():\n",
        "    landscape = np.random.randint(1, high=50, size=(10, 10))\n",
        "    print(landscape)\n",
        "    start_state = (3, 6)  # matrix index coordinates\n",
        "    current_state = start_state\n",
        "    count = 1\n",
        "    ascending = True\n",
        "    while ascending:\n",
        "        print(\"\\nStep #\", count)\n",
        "        print(\"Current state coordinates: \", current_state)\n",
        "        print(\"Current state value: \", landscape[current_state[0]][current_state[1]])\n",
        "        count += 1\n",
        "        ascending, current_state = hill_climb(current_state, landscape)\n",
        "\n",
        "    print(\"\\nStep #\", count)\n",
        "    print(\"Optimization objective reached.\")\n",
        "    print(\"Final state coordinates: \", current_state)\n",
        "    print(\"Final state value: \", landscape[current_state[0]][current_state[1]])\n",
        "\n",
        "\n",
        "__main__()"
      ],
      "metadata": {
        "id": "DkLTOd3ZW-ZH",
        "outputId": "1c796671-122f-41f3-bdfa-da899ddb2dfb",
        "colab": {
          "base_uri": "https://localhost:8080/"
        }
      },
      "execution_count": 16,
      "outputs": [
        {
          "output_type": "stream",
          "name": "stdout",
          "text": [
            "[[47 33 41 29  4 14 26 37 22  4]\n",
            " [43 45 17 38 36 26 14 30 23  6]\n",
            " [28 26 49 38 18 15 47 21 44  4]\n",
            " [ 3  4  4 47 37  4 22  7 42 10]\n",
            " [34 18 23  4 43 24 25 40 17 11]\n",
            " [14 19  5 16  8 16 35 28 31 13]\n",
            " [ 3 29 36 35 29  4 19 32 35 36]\n",
            " [22 39  2 38 16  2 34 40 23 15]\n",
            " [ 8 45 28 16 17 35 22 25 28 14]\n",
            " [45 26  3  1 41 18  8  5 43 23]]\n",
            "\n",
            "Step # 1\n",
            "Current state coordinates:  (3, 6)\n",
            "Current state value:  22\n",
            "\n",
            "Step # 2\n",
            "Current state coordinates:  (2, 6)\n",
            "Current state value:  47\n",
            "\n",
            "Step # 3\n",
            "Optimization objective reached.\n",
            "Final state coordinates:  (2, 6)\n",
            "Final state value:  47\n"
          ]
        }
      ]
    }
  ]
}