{
  "nbformat": 4,
  "nbformat_minor": 0,
  "metadata": {
    "colab": {
      "provenance": [],
      "authorship_tag": "ABX9TyMcxrlbnUIhUoWn9wrWPDY5",
      "include_colab_link": true
    },
    "kernelspec": {
      "name": "python3",
      "display_name": "Python 3"
    },
    "language_info": {
      "name": "python"
    }
  },
  "cells": [
    {
      "cell_type": "markdown",
      "metadata": {
        "id": "view-in-github",
        "colab_type": "text"
      },
      "source": [
        "<a href=\"https://colab.research.google.com/github/SahrsRoyal/Sahrs-AI-Lab-Report/blob/main/lab-2.ipynb\" target=\"_parent\"><img src=\"https://colab.research.google.com/assets/colab-badge.svg\" alt=\"Open In Colab\"/></a>"
      ]
    },
    {
      "cell_type": "code",
      "execution_count": 1,
      "metadata": {
        "colab": {
          "base_uri": "https://localhost:8080/"
        },
        "id": "X4wZ_RrmSTaQ",
        "outputId": "5d9dc362-c356-4908-e350-44f8d8791676"
      },
      "outputs": [
        {
          "output_type": "stream",
          "name": "stdout",
          "text": [
            "1\n"
          ]
        }
      ],
      "source": [
        "import random\n",
        "x=[1,2,3]\n",
        "y=random.choice(x)\n",
        "print(y)\n",
        "     "
      ]
    },
    {
      "cell_type": "code",
      "source": [
        "mport math\n",
        "math.sqrt(8)\n",
        "print(math.pi)\n",
        "print(\"seyad \"*4)\n",
        "a=\"seyad\"\n",
        "y=a.capitalize()\n",
        "print(y)\n",
        "a.find('b')"
      ],
      "metadata": {
        "colab": {
          "base_uri": "https://localhost:8080/",
          "height": 130
        },
        "id": "Skhkds67SxMQ",
        "outputId": "bc88a437-26cc-4db2-bedd-0dd6cc2a32d9"
      },
      "execution_count": 2,
      "outputs": [
        {
          "output_type": "error",
          "ename": "SyntaxError",
          "evalue": "ignored",
          "traceback": [
            "\u001b[0;36m  File \u001b[0;32m\"<ipython-input-2-ad72f5d4d0f2>\"\u001b[0;36m, line \u001b[0;32m1\u001b[0m\n\u001b[0;31m    mport math\u001b[0m\n\u001b[0m          ^\u001b[0m\n\u001b[0;31mSyntaxError\u001b[0m\u001b[0;31m:\u001b[0m invalid syntax\n"
          ]
        }
      ]
    },
    {
      "cell_type": "code",
      "source": [
        "mlist1=[]\n",
        "print(\"enter a number for list 1\")\n",
        "for i in range(32):\n",
        "  a=input(\"number\")\n",
        "  n=a\n",
        "  mlist1.append(n)\n",
        "\n",
        "\n",
        "mlist2=[]\n",
        "print(\"enter a number for list 1\")\n",
        "for i in range(3):\n",
        "  a=input(\"number\")\n",
        "  n=a\n",
        "  mlist2.append(n)\n",
        "\n",
        "list3=mlist1+mlist2\n",
        "print(list3)"
      ],
      "metadata": {
        "id": "bkSifSxhSxO4"
      },
      "execution_count": null,
      "outputs": []
    },
    {
      "cell_type": "code",
      "source": [
        "def inpalodrom(word):\n",
        "  temp=word[::-1]\n",
        "  if temp.captalize=word.captalize:\n",
        "    return true\n",
        "  else:\n",
        "    return false  \n",
        "print(inpalodrom(\"dead\"))\n",
        "     "
      ],
      "metadata": {
        "id": "rJ-7aH5SSxRo"
      },
      "execution_count": null,
      "outputs": []
    },
    {
      "cell_type": "code",
      "source": [
        "a=[1,2,3,4]\n",
        "b=[4,5,6,7]\n",
        "c=[]\n",
        "\n",
        "for indrow in range(3):\n",
        "  c.append([])\n",
        "  for indrow1 in range(3):\n",
        "    c(indrow).append(0) \n",
        "    for indrow11 in range(3):\n",
        "      c[indrow ][indrow1]+=b[indrow ][indrow11]*a[indrow1][indrow11]\n",
        "     "
      ],
      "metadata": {
        "id": "GXlrlwQ_SxUN"
      },
      "execution_count": null,
      "outputs": []
    },
    {
      "cell_type": "code",
      "source": [
        "def symdiff(a,b):\n",
        "  e=set()\n",
        "  for i in a:\n",
        "    if i not in b:\n",
        "      e.add(i)\n",
        "  for i in a:\n",
        "    if i not in a:\n",
        "      e.add(i)\n",
        "\n",
        "      return e\n",
        "set_A = {1, 2, 3, 4, 5}\n",
        "set_B = {6, 7, 3, 9, 4}\n",
        "\n",
        "print(symdiff(set_A,set_B))\n",
        "\n",
        "print(set_A.symmetric_difference(set_B))      \n",
        "print(set_B.symmetric_difference(set_A))\n",
        "print(set_A^set_B) \n",
        "print(set_B^set_A)"
      ],
      "metadata": {
        "id": "1bs7vdAqSxWy"
      },
      "execution_count": null,
      "outputs": []
    },
    {
      "cell_type": "code",
      "source": [
        "sample={(\"sohain\",\"ali\"):\"01233475\",\n",
        "(\"sohaskalkin\",\"ai\"):\"01233475\",\n",
        "(\"sSAohain\",\"SSSali\"):\"01233475\",\n",
        "}\n",
        "firstname=input(\"input name\")\n",
        "lastname=input(\"input name\")\n",
        "searchtuple=(firstname,lastname)\n",
        "if searchtuple in sample:\n",
        "  print(sample(searchtuple))\n",
        "else:\n",
        "  print (\"not found\")  \n",
        "     "
      ],
      "metadata": {
        "id": "4yBxz106SxZO"
      },
      "execution_count": null,
      "outputs": []
    },
    {
      "cell_type": "code",
      "source": [
        "n = int(input(\"Enter size of list  : \"))\n",
        " \n",
        "for i in range(0, n):\n",
        "    element = int(input(\"Enter a number in list 1 :-\"))\n",
        " \n",
        "    lst1.append(element) \n",
        "     \n",
        "print(\"List 1 is :-\"+str(lst1))\n",
        "\n",
        " \n",
        "for i in range(0, n):\n",
        "    element2 = int(input(\"Enter a number in list 2 :-\"))\n",
        " \n",
        "    lst2.append(element2) \n",
        "     \n",
        "print(\"List 2 elements are :-\"+str(lst2))\n",
        "\n",
        "lst3=lst1+lst2\n",
        "print(\"list 3\"+str(lst3))\n",
        "a=max(lst3)\n",
        "b=min(lst3)\n",
        "print(\"maximum element in list\"+str(a))\n",
        "print(\"minimum element in list\"+str(b))"
      ],
      "metadata": {
        "colab": {
          "base_uri": "https://localhost:8080/",
          "height": 269
        },
        "id": "ixV01QssSxbm",
        "outputId": "b175345d-c5ab-4241-d72f-d1eb96719df6"
      },
      "execution_count": 5,
      "outputs": [
        {
          "name": "stdout",
          "output_type": "stream",
          "text": [
            "Enter size of list  : 4\n",
            "Enter a number in list 1 :-12\n"
          ]
        },
        {
          "output_type": "error",
          "ename": "NameError",
          "evalue": "ignored",
          "traceback": [
            "\u001b[0;31m---------------------------------------------------------------------------\u001b[0m",
            "\u001b[0;31mNameError\u001b[0m                                 Traceback (most recent call last)",
            "\u001b[0;32m<ipython-input-5-d7eefd58e32d>\u001b[0m in \u001b[0;36m<module>\u001b[0;34m\u001b[0m\n\u001b[1;32m      4\u001b[0m     \u001b[0melement\u001b[0m \u001b[0;34m=\u001b[0m \u001b[0mint\u001b[0m\u001b[0;34m(\u001b[0m\u001b[0minput\u001b[0m\u001b[0;34m(\u001b[0m\u001b[0;34m\"Enter a number in list 1 :-\"\u001b[0m\u001b[0;34m)\u001b[0m\u001b[0;34m)\u001b[0m\u001b[0;34m\u001b[0m\u001b[0;34m\u001b[0m\u001b[0m\n\u001b[1;32m      5\u001b[0m \u001b[0;34m\u001b[0m\u001b[0m\n\u001b[0;32m----> 6\u001b[0;31m     \u001b[0mlst1\u001b[0m\u001b[0;34m.\u001b[0m\u001b[0mappend\u001b[0m\u001b[0;34m(\u001b[0m\u001b[0melement\u001b[0m\u001b[0;34m)\u001b[0m\u001b[0;34m\u001b[0m\u001b[0;34m\u001b[0m\u001b[0m\n\u001b[0m\u001b[1;32m      7\u001b[0m \u001b[0;34m\u001b[0m\u001b[0m\n\u001b[1;32m      8\u001b[0m \u001b[0mprint\u001b[0m\u001b[0;34m(\u001b[0m\u001b[0;34m\"List 1 is :-\"\u001b[0m\u001b[0;34m+\u001b[0m\u001b[0mstr\u001b[0m\u001b[0;34m(\u001b[0m\u001b[0mlst1\u001b[0m\u001b[0;34m)\u001b[0m\u001b[0;34m)\u001b[0m\u001b[0;34m\u001b[0m\u001b[0;34m\u001b[0m\u001b[0m\n",
            "\u001b[0;31mNameError\u001b[0m: name 'lst1' is not defined"
          ]
        }
      ]
    },
    {
      "cell_type": "code",
      "source": [
        "contact_items =[{'name': ['saif'],\n",
        "                 'age': ['25'],\n",
        "                 \"city\": [\"New york\"],\n",
        "                 'salary': [1000]}]\n",
        "\n",
        "\n",
        "\n",
        "\n",
        "\n",
        "[{'name': ['saif'],\n",
        "                 'salary': [1000]}]\n",
        "\n",
        "list1 = ''\n",
        "list2 = ''\n",
        "list3 = []\n",
        "test_dict = {}\n",
        "\n",
        "for item in contact_items:\n",
        "    list1 = item['name']\n",
        "    list2 = item['salary']\n",
        "\n",
        "test_dict = {}\n",
        "\n",
        "for k in list1:\n",
        "    for l in list2:\n",
        "        test_dict['name'] = k\n",
        "        test_dict['salary'] = l\n",
        "        list3.append(test_dict)\n",
        "\n",
        "print(list3)"
      ],
      "metadata": {
        "id": "xxj9pRbSSxeF"
      },
      "execution_count": null,
      "outputs": []
    },
    {
      "cell_type": "code",
      "source": [
        "from sympy.functions.special.spherical_harmonics import Ynm\n",
        "from sympy.functions import yn\n",
        "from sympy.algebras.quaternion import cos\n",
        "from sympy import sin\n",
        "import math\n",
        "\n",
        "def pii(a):\n",
        "  x=0.001\n",
        "  s=sin(x)\n",
        "  y=cos(x)\n",
        "  s=y\n",
        "  z=y\n",
        "\n",
        "print(pii(z))\n",
        "\n",
        "     "
      ],
      "metadata": {
        "id": "JHXQRwHISxgP"
      },
      "execution_count": null,
      "outputs": []
    },
    {
      "cell_type": "code",
      "source": [],
      "metadata": {
        "id": "oCt95vMKSxi2"
      },
      "execution_count": 3,
      "outputs": []
    },
    {
      "cell_type": "code",
      "source": [],
      "metadata": {
        "id": "helRpekVSxla"
      },
      "execution_count": 3,
      "outputs": []
    }
  ]
}