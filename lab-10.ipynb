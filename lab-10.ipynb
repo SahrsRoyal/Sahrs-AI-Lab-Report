{
  "nbformat": 4,
  "nbformat_minor": 0,
  "metadata": {
    "colab": {
      "provenance": [],
      "authorship_tag": "ABX9TyMpQhtiKssTYFb7ZmGxqN9x",
      "include_colab_link": true
    },
    "kernelspec": {
      "name": "python3",
      "display_name": "Python 3"
    },
    "language_info": {
      "name": "python"
    }
  },
  "cells": [
    {
      "cell_type": "markdown",
      "metadata": {
        "id": "view-in-github",
        "colab_type": "text"
      },
      "source": [
        "<a href=\"https://colab.research.google.com/github/SahrsRoyal/Sahrs-AI-Lab-Report/blob/main/lab-10.ipynb\" target=\"_parent\"><img src=\"https://colab.research.google.com/assets/colab-badge.svg\" alt=\"Open In Colab\"/></a>"
      ]
    },
    {
      "cell_type": "code",
      "source": [
        "geneSet = \"abcdefghijklmnopqrstuvwxyzABCDEFGHIJKLMNOPQRSTUVWXYZ!,. ?\"\n",
        "import random\n",
        "import datetime\n",
        "def Calculate_Fitness(guess):\n",
        "    return sum(1 for expected,actual in zip(target,guess) if expected==actual)\n",
        "\n",
        "def Cross_Over(length):\n",
        "    genes=[]\n",
        "    while len(genes)=childFitness:\n",
        "            continue\n",
        "        Display(child, startTime)\n",
        "        if childFitness>=len(bestParent):\n",
        "            break\n",
        "            exit(0)\n",
        "        bestFitness=childFitness\n",
        "        bestParent=child\n",
        "target = input()\n",
        "run_genetic_algo(target)"
      ],
      "metadata": {
        "id": "r2QteQIeXL02",
        "outputId": "0f7052d8-68d9-4fec-cdc4-6d0b35499674",
        "colab": {
          "base_uri": "https://localhost:8080/",
          "height": 130
        }
      },
      "execution_count": 18,
      "outputs": [
        {
          "output_type": "error",
          "ename": "IndentationError",
          "evalue": "ignored",
          "traceback": [
            "\u001b[0;36m  File \u001b[0;32m\"<tokenize>\"\u001b[0;36m, line \u001b[0;32m11\u001b[0m\n\u001b[0;31m    Display(child, startTime)\u001b[0m\n\u001b[0m    ^\u001b[0m\n\u001b[0;31mIndentationError\u001b[0m\u001b[0;31m:\u001b[0m unindent does not match any outer indentation level\n"
          ]
        }
      ]
    }
  ]
}