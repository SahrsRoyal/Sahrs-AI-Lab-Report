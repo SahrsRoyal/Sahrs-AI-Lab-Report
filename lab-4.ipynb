{
  "nbformat": 4,
  "nbformat_minor": 0,
  "metadata": {
    "colab": {
      "provenance": [],
      "authorship_tag": "ABX9TyOWJiNZ/1RNCQgDQ8D/EErd",
      "include_colab_link": true
    },
    "kernelspec": {
      "name": "python3",
      "display_name": "Python 3"
    },
    "language_info": {
      "name": "python"
    }
  },
  "cells": [
    {
      "cell_type": "markdown",
      "metadata": {
        "id": "view-in-github",
        "colab_type": "text"
      },
      "source": [
        "<a href=\"https://colab.research.google.com/github/SahrsRoyal/Sahrs-AI-Lab-Report/blob/main/lab-4.ipynb\" target=\"_parent\"><img src=\"https://colab.research.google.com/assets/colab-badge.svg\" alt=\"Open In Colab\"/></a>"
      ]
    },
    {
      "cell_type": "code",
      "execution_count": 1,
      "metadata": {
        "colab": {
          "base_uri": "https://localhost:8080/",
          "height": 235
        },
        "id": "NWjziZH4Uu_0",
        "outputId": "9bd8ab98-5509-4fc5-c004-539331df9b2d"
      },
      "outputs": [
        {
          "output_type": "error",
          "ename": "TypeError",
          "evalue": "ignored",
          "traceback": [
            "\u001b[0;31m---------------------------------------------------------------------------\u001b[0m",
            "\u001b[0;31mTypeError\u001b[0m                                 Traceback (most recent call last)",
            "\u001b[0;32m<ipython-input-1-fd90ae215051>\u001b[0m in \u001b[0;36m<module>\u001b[0;34m\u001b[0m\n\u001b[1;32m      6\u001b[0m         \u001b[0mself\u001b[0m\u001b[0;34m.\u001b[0m\u001b[0mactions\u001b[0m \u001b[0;34m=\u001b[0m \u001b[0mactions\u001b[0m\u001b[0;34m\u001b[0m\u001b[0;34m\u001b[0m\u001b[0m\n\u001b[1;32m      7\u001b[0m         \u001b[0mself\u001b[0m\u001b[0;34m.\u001b[0m\u001b[0mtotalCost\u001b[0m \u001b[0;34m=\u001b[0m \u001b[0mtotalCost\u001b[0m\u001b[0;34m\u001b[0m\u001b[0;34m\u001b[0m\u001b[0m\n\u001b[0;32m----> 8\u001b[0;31m \u001b[0mnode1\u001b[0m \u001b[0;34m=\u001b[0m \u001b[0mNode\u001b[0m\u001b[0;34m(\u001b[0m\u001b[0;36m1\u001b[0m\u001b[0;34m,\u001b[0m\u001b[0;36m2\u001b[0m\u001b[0;34m,\u001b[0m\u001b[0;36m3\u001b[0m\u001b[0;34m,\u001b[0m\u001b[0;36m4\u001b[0m\u001b[0;34m)\u001b[0m\u001b[0;34m\u001b[0m\u001b[0;34m\u001b[0m\u001b[0m\n\u001b[0m\u001b[1;32m      9\u001b[0m graph = {'A': Node('A',None,['B','C','E'],None),\n\u001b[1;32m     10\u001b[0m                  \u001b[0;34m'B'\u001b[0m\u001b[0;34m:\u001b[0m \u001b[0mNode\u001b[0m\u001b[0;34m(\u001b[0m\u001b[0;34m'B'\u001b[0m\u001b[0;34m,\u001b[0m\u001b[0;32mNone\u001b[0m\u001b[0;34m,\u001b[0m\u001b[0;34m[\u001b[0m\u001b[0;34m'A'\u001b[0m\u001b[0;34m,\u001b[0m\u001b[0;34m'D'\u001b[0m\u001b[0;34m,\u001b[0m\u001b[0;34m'E'\u001b[0m\u001b[0;34m]\u001b[0m\u001b[0;34m,\u001b[0m\u001b[0;32mNone\u001b[0m\u001b[0;34m)\u001b[0m\u001b[0;34m,\u001b[0m\u001b[0;34m\u001b[0m\u001b[0;34m\u001b[0m\u001b[0m\n",
            "\u001b[0;31mTypeError\u001b[0m: Node() takes no arguments"
          ]
        }
      ],
      "source": [
        "class Node:\n",
        "    #stste=state\n",
        "    def _init_(self, state, parent, actions, totalCost):\n",
        "        self.state = state\n",
        "        self.parent = parent\n",
        "        self.actions = actions\n",
        "        self.totalCost = totalCost\n",
        "node1 = Node(1,2,3,4)\n",
        "graph = {'A': Node('A',None,['B','C','E'],None),\n",
        "                 'B': Node('B',None,['A','D','E'],None),\n",
        "                 'C': Node('C',None,['A','F','G'],None),\n",
        "                 'D': Node('D',None,['B','E'],None),\n",
        "                 'E': Node('E',None,['A','B','D'],None),\n",
        "                 'F': Node('F',None,['C',],None),\n",
        "                 'G': Node('G',None,['C',],None),}\n",
        "def actionSequence(graph, initialState, goalState):\n",
        "        solution= [goalState]\n",
        "        currentParent= graph[goalState].parent\n",
        "      \n",
        "        \n",
        "        while currentParent != None:\n",
        "            solution.append(currentParent)\n",
        "            currentParent = graph[currentParent].parent\n",
        "            solution.reverse()\n",
        "            \n",
        "            \n",
        "def DFS():\n",
        "\n",
        "        initialState = 'Arad'\n",
        "        goalState = 'Bucharast'\n",
        "        graph = {\n",
        "                'Oradea': Node('Oradea', None, ['Sibiu','Zerind'], [151,71]),\n",
        "                'Zerind': Node('Zerind', None, ['Oradea','Arad'], [71,75]),\n",
        "                'Arad': Node('Arad', None, ['Zerind','Sibiu','Timisoara'], [75,140,118]),\n",
        "                'Timisoara': Node('Timisoara', None, ['Lugoj','Arad'], [111,118]),\n",
        "                'Zerind': Node('Zerind', None, ['Oradea','Arad'], [71,75]),\n",
        "       \n",
        "                'Sibiu': Node('Sibiu', None, ['Arad','Rimnicu Vilcea','Oradea','Fagaras'], [140,80,151,99]),\n",
        "                'Lugoj': Node('Lugoj', None, ['Mehadia','Timisoara'], [70,111]),\n",
        "                'Mehadia': Node('Mehadia', None, ['Drobeata','Lugoj'], [75,70]),\n",
        "                'Drobeata': Node('Drobeata', None, ['Craiova','Mehadia'], [120,75]),\n",
        "                'Craiova': Node('Craiova', None, ['Pitesti','Rimnicu Vilcea','Drobeata',], [138,146,120]),  \n",
        "                'Rimnicu Vilcea': Node('Rimnicu Vilcea', None, ['Sibiu','Pitesti','Craiova'], [80,97,146]),\n",
        "                'Pitesti': Node('Pitesti', None, [  'Rimnicu Vilcea','Craiova','Bucharast'], [97,138,101]),\n",
        "                'Fagaras': Node('Fagaras', None, ['Sibiu','Bucharast'], [99,211]),\n",
        "                'Bucharast':Node('Bucharast',None,['Giurgiu','Pitesti','Fagaras','Urziceni'],[90,101,211,85]),    \n",
        "                'Urziceni': Node('Urziceni',None,['Bucharast','Hirsova','Vaslui'],[85,98,142]),\n",
        "                'Vaslui': Node('Vaslui',None,['Iasi','Urziceni'],[92,142]),\n",
        "                'Iasi': Node('Iasi',None,['Neamt','Vaslui'],[87,92]),\n",
        "                'Hirsova': Node('Hirsova',None,['Urziceni','Eforie'],[98,86]),\n",
        "                'Neamt': Node('Neamt',None,['Iasi'],[87])}\n",
        "                \n",
        "        frontier = [initialState]\n",
        "        explored = []\n",
        "        while len(frontier) !=0:\n",
        "\n",
        "          currentNode = frontier.pop(len(frontier)-1)\n",
        "          print(currentNode)\n",
        "          explored.append(currentNode)\n",
        "          for child in graph[currentNode].actions:\n",
        "              if child not in frontier and child not in explored:\n",
        "                  graph[child].parent=currentNode\n",
        "                  if graph[child].state==goalState:\n",
        "                        return actionSequence(graph, initialState, goalState)\n",
        "                  frontier.append(child)\n",
        "                  \n",
        "\n",
        "def actionSequence(graph, initialState, goalState):\n",
        "                   solution=[goalState]\n",
        "                   currentParent = graph[goalState].parent\n",
        "                   while currentParent!=None:\n",
        "                       solution.append(currentParent)\n",
        "                       currentParent = graph[currentParent].parent\n",
        "                   solution.reverse()\n",
        "                   return solution\n",
        "                   \n",
        "solution = DFS()\n",
        "print(solution)"
      ]
    }
  ]
}