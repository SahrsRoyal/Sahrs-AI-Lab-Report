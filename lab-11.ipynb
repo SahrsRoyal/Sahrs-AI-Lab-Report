{
  "nbformat": 4,
  "nbformat_minor": 0,
  "metadata": {
    "colab": {
      "provenance": [],
      "authorship_tag": "ABX9TyMpQhtiKssTYFb7ZmGxqN9x",
      "include_colab_link": true
    },
    "kernelspec": {
      "name": "python3",
      "display_name": "Python 3"
    },
    "language_info": {
      "name": "python"
    }
  },
  "cells": [
    {
      "cell_type": "markdown",
      "metadata": {
        "id": "view-in-github",
        "colab_type": "text"
      },
      "source": [
        "<a href=\"https://colab.research.google.com/github/SahrsRoyal/Sahrs-AI-Lab-Report/blob/main/lab-11.ipynb\" target=\"_parent\"><img src=\"https://colab.research.google.com/assets/colab-badge.svg\" alt=\"Open In Colab\"/></a>"
      ]
    },
    {
      "cell_type": "code",
      "source": [
        "geneSet = \"abcdefghijklmnopqrstuvwxyzABCDEFGHIJKLMNOPQRSTUVWXYZ!,. ?\"\n",
        "import random\n",
        "import datetime\n",
        "def Calculate_Fitness(guess):\n",
        "    return sum(1 for expected,actual in zip(target,guess) if expected==actual)\n",
        "\n",
        "def Cross_Over(length):\n",
        "    genes=[]\n",
        "    while len(genes)=childFitness:\n",
        "            continue\n",
        "        Display(child, startTime)\n",
        "        if childFitness>=len(bestParent):\n",
        "            break\n",
        "            exit(0)\n",
        "        bestFitness=childFitness\n",
        "        bestParent=child\n",
        "target = input()\n",
        "run_genetic_algo(target)"
      ],
      "metadata": {
        "id": "MaFcgvAcXqlM"
      },
      "execution_count": null,
      "outputs": []
    }
  ]
}