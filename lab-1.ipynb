{
  "nbformat": 4,
  "nbformat_minor": 0,
  "metadata": {
    "colab": {
      "provenance": [],
      "authorship_tag": "ABX9TyNE7cuHXT0lNTh6ucHJOWdK",
      "include_colab_link": true
    },
    "kernelspec": {
      "name": "python3",
      "display_name": "Python 3"
    },
    "language_info": {
      "name": "python"
    }
  },
  "cells": [
    {
      "cell_type": "markdown",
      "metadata": {
        "id": "view-in-github",
        "colab_type": "text"
      },
      "source": [
        "<a href=\"https://colab.research.google.com/github/SahrsRoyal/Sahrs-AI-Lab-Report/blob/main/lab-1.ipynb\" target=\"_parent\"><img src=\"https://colab.research.google.com/assets/colab-badge.svg\" alt=\"Open In Colab\"/></a>"
      ]
    },
    {
      "cell_type": "code",
      "execution_count": 1,
      "metadata": {
        "colab": {
          "base_uri": "https://localhost:8080/"
        },
        "id": "FeuHhsvTQcWz",
        "outputId": "cad2b32a-5a56-4cd8-ca8f-45cc01eacab3"
      },
      "outputs": [
        {
          "output_type": "stream",
          "name": "stdout",
          "text": [
            "Enter any number : 12\n",
            "12 is Even\n"
          ]
        }
      ],
      "source": [
        "#taking an input from the user and checking whether its even or odd\n",
        "value=input(\"Enter any number : \")\n",
        "\n",
        "if int (value)%2==0:\n",
        "  print(value ,\"is Even\")\n",
        "else:\n",
        "  print(value ,\"is odd\")"
      ]
    },
    {
      "cell_type": "code",
      "source": [
        "#keep taking input from user and summing it untill user enters 0\n",
        "sum=0\n",
        "\n",
        "value=input(\"Enter any number : \")\n",
        "n=int(value)\n",
        "\n",
        "while n!=0:\n",
        "  sum=sum+n\n",
        "  value=input(\"Enter any number : \")\n",
        "  n=int(value)\n",
        "  \n",
        "print(\"Sum of given values is : \" , sum)"
      ],
      "metadata": {
        "colab": {
          "base_uri": "https://localhost:8080/"
        },
        "id": "yFhtU5FRQmIE",
        "outputId": "a5cc806e-fddc-4a55-c9a3-8cbe67f5179b"
      },
      "execution_count": 2,
      "outputs": [
        {
          "output_type": "stream",
          "name": "stdout",
          "text": [
            "Enter any number : 45\n",
            "Enter any number : 4545\n",
            "Enter any number : 0\n",
            "Sum of given values is :  4590\n"
          ]
        }
      ]
    },
    {
      "cell_type": "code",
      "source": [
        "isPrime=True\n",
        "i=2\n",
        "value=int(input(\"Enter any value to find whether its prime or not : \"))\n",
        "\n",
        "while i<value:\n",
        "  remainder=value%i\n",
        "  if remainder==0:\n",
        "    isPrime=False\n",
        "    break\n",
        "  else:\n",
        "      i=i+1\n",
        "\n",
        "if isPrime:\n",
        "  print(\"Number is Prime\")\n",
        "else:\n",
        "  print(\"Number is not prime\")"
      ],
      "metadata": {
        "colab": {
          "base_uri": "https://localhost:8080/"
        },
        "id": "OQ6-8mE4QpJK",
        "outputId": "32675fda-2ee8-4c9b-873b-32c08f56758f"
      },
      "execution_count": 3,
      "outputs": [
        {
          "output_type": "stream",
          "name": "stdout",
          "text": [
            "Enter any value to find whether its prime or not : 7\n",
            "Number is Prime\n"
          ]
        }
      ]
    },
    {
      "cell_type": "code",
      "source": [
        "sum=0\n",
        "i=0\n",
        "\n",
        "while i<=4:\n",
        "  s=input(\"Enter a number : \")\n",
        "  n=int(s)\n",
        "  sum=sum+n\n",
        "  i=i+1\n",
        "\n",
        "print(\"Sum is \",sum)"
      ],
      "metadata": {
        "colab": {
          "base_uri": "https://localhost:8080/"
        },
        "id": "rCWJ7NDRQrIU",
        "outputId": "5e61a6f0-8163-45a0-9cdf-b79304d4f11e"
      },
      "execution_count": 4,
      "outputs": [
        {
          "output_type": "stream",
          "name": "stdout",
          "text": [
            "Enter a number : 12\n",
            "Enter a number : 56\n",
            "Enter a number : 21\n",
            "Enter a number : 255\n",
            "Enter a number : 6\n",
            "Sum is  350\n"
          ]
        }
      ]
    },
    {
      "cell_type": "code",
      "source": [
        "sum=0\n",
        "i=1\n",
        "while i<=10:\n",
        "  sum=sum+i\n",
        "  i=i+1\n",
        "\n",
        "print(\"Sum is : \",sum)"
      ],
      "metadata": {
        "colab": {
          "base_uri": "https://localhost:8080/"
        },
        "id": "DOynCCpJQs4i",
        "outputId": "6ecd75a1-a2e6-4afe-e40c-2cbdf804dd97"
      },
      "execution_count": 5,
      "outputs": [
        {
          "output_type": "stream",
          "name": "stdout",
          "text": [
            "Sum is :  55\n"
          ]
        }
      ]
    },
    {
      "cell_type": "code",
      "source": [
        "#Take any sort of input from user\n",
        "name=input(\"Enter your name : \")\n",
        "age=input(\"Enter your age : \")\n",
        "num=int(input(\"Enter your contact number : \"))\n",
        "\n",
        "print(\"Name : \",name)\n",
        "print(\"Age : \",age)\n",
        "print(\"Contact : \",num)"
      ],
      "metadata": {
        "colab": {
          "base_uri": "https://localhost:8080/"
        },
        "id": "D4sd4cllQufC",
        "outputId": "9ff800b2-08d5-4c4c-bbf0-47ad8e1de931"
      },
      "execution_count": 6,
      "outputs": [
        {
          "output_type": "stream",
          "name": "stdout",
          "text": [
            "Enter your name : sahrs\n",
            "Enter your age : 1001\n",
            "Enter your contact number : 031411214121214\n",
            "Name :  sahrs\n",
            "Age :  1001\n",
            "Contact :  31411214121214\n"
          ]
        }
      ]
    },
    {
      "cell_type": "code",
      "source": [
        "# program that promts user to input some integers and output its reversed version\n",
        "\n",
        "num=input(\"Enter some integers : \")\n",
        "\n",
        "print(str(num)[::-1])"
      ],
      "metadata": {
        "colab": {
          "base_uri": "https://localhost:8080/"
        },
        "id": "qGfYJ-woQwGi",
        "outputId": "74672a44-815f-44c4-8d4a-780bd51a9dfd"
      },
      "execution_count": 7,
      "outputs": [
        {
          "output_type": "stream",
          "name": "stdout",
          "text": [
            "Enter some integers : 5\n",
            "5\n"
          ]
        }
      ]
    },
    {
      "cell_type": "code",
      "source": [
        "# program that reads a set of integers and prints sum of even and odd numbers\n",
        "test_list=input(\"Enter any series of digits : \")\n",
        " \n",
        "odd_sum = 0\n",
        "even_sum = 0\n",
        " \n",
        "for sub in test_list:\n",
        "    for ele in str(sub):\n",
        "        if int(ele) % 2 == 0:\n",
        "            even_sum += int(ele)\n",
        "        else:\n",
        "            odd_sum += int(ele)\n",
        " \n",
        "print(\"Odd digit sum : \" + str(odd_sum))\n",
        "print(\"Even digit sum : \" + str(even_sum))"
      ],
      "metadata": {
        "colab": {
          "base_uri": "https://localhost:8080/"
        },
        "id": "GlkGlN6RQyPU",
        "outputId": "8ba520fb-1616-4c04-87a6-b3a72796af36"
      },
      "execution_count": 8,
      "outputs": [
        {
          "output_type": "stream",
          "name": "stdout",
          "text": [
            "Enter any series of digits : 1\n",
            "Odd digit sum : 1\n",
            "Even digit sum : 0\n"
          ]
        }
      ]
    },
    {
      "cell_type": "code",
      "source": [
        "num_terms = int(input(\"How many terms do you want ? \"))\n",
        "\n",
        "n1, n2 = 0, 1\n",
        "count = 0\n",
        "\n",
        "if num_terms <= 0:\n",
        "   print(\"Please enter a positive integer\")\n",
        "elif num_terms == 1:\n",
        "   print(\"Fibonacci sequence upto\",num_terms,\":\")\n",
        "   print(n1)\n",
        "else:\n",
        "   print(\"Fibonacci sequence:\")\n",
        "   while count < num_terms:\n",
        "       print(n1)\n",
        "       nth = n1 + n2\n",
        "       n1 = n2\n",
        "       n2 = nth\n",
        "       count += 1"
      ],
      "metadata": {
        "colab": {
          "base_uri": "https://localhost:8080/"
        },
        "id": "SmWliz1dQ096",
        "outputId": "a77d96c9-9297-4229-f9ba-55a50766d708"
      },
      "execution_count": 9,
      "outputs": [
        {
          "output_type": "stream",
          "name": "stdout",
          "text": [
            "How many terms do you want ? 5\n",
            "Fibonacci sequence:\n",
            "0\n",
            "1\n",
            "1\n",
            "2\n",
            "3\n"
          ]
        }
      ]
    },
    {
      "cell_type": "code",
      "source": [
        "marks=int(input(\"Enter your marks : \"))\n",
        "\n",
        "if(marks>=90):\n",
        "    print(\"Grade: A\")\n",
        "elif(marks>=80&marks<90):\n",
        "    print(\"Grade: B\")\n",
        "elif(marks>=70&marks<80):\n",
        "    print(\"Grade: C\")\n",
        "elif(marks>=60&marks<70):\n",
        "    print(\"Grade: D\")\n",
        "elif(marks>=50&marks<60):\n",
        "    print(\"Grade: D\")\n",
        "else:\n",
        "    print(\"Grade: F\")"
      ],
      "metadata": {
        "colab": {
          "base_uri": "https://localhost:8080/"
        },
        "id": "6QgiwleBQ29y",
        "outputId": "78f8fe7a-6af7-4848-9848-6b92a450c56f"
      },
      "execution_count": 10,
      "outputs": [
        {
          "output_type": "stream",
          "name": "stdout",
          "text": [
            "Enter your marks : 555\n",
            "Grade: A\n"
          ]
        }
      ]
    },
    {
      "cell_type": "code",
      "source": [
        "num = int(input(\"Enter any number: \"))    \n",
        "factorial = 1 \n",
        "\n",
        "if num < 0:    \n",
        "   print(\" Factorial does not exist for negative numbers \")    \n",
        "elif num == 0:    \n",
        "   print(\"The factorial of 0 is 1 \")    \n",
        "else:    \n",
        "   for i in range(1,num + 1):    \n",
        "       factorial = factorial*i    \n",
        "   print(\"The factorial of\",num,\"is :\",factorial)    "
      ],
      "metadata": {
        "colab": {
          "base_uri": "https://localhost:8080/"
        },
        "id": "L_UQ9fFLQ41T",
        "outputId": "09d0fc72-e836-469e-893b-041a87ccb726"
      },
      "execution_count": 11,
      "outputs": [
        {
          "output_type": "stream",
          "name": "stdout",
          "text": [
            "Enter any number: 1245\n",
            "The factorial of 1245 is : 544397650383517789911702030753938745027388417299084201335897919410640386627611344435497258957422694619730492025210417771280959854622765199726278382419958419461536883598550972472405964074615192585443384838506782467983580133754576199448263396921263864735509626711679957776621391474254083305371204186954515955009320327691086767937186892281122596211383749066436916166465047040856525556958721927583242201609584546174914409191474775408879405451750482169938599036729267888223184612188131019092241185895511878297201765712235933272627945050796548905964815550675882008037080396621751811403197664445184947095079148193245885860691986994888576354901190533163492930371409638036793728239919785108626781835619129713491266585289917433575872465026963187578043330164717231161023828799001268368450752246385818274437422850482660150376495097108620493491560802197378437213433700493950210034727911564912766781906101906679308196510917779186809047760020809756043109328061457873117726081815275365708317931134562432417896549904472461961999275686432493847094134583534300723840330000310727156688267349593420269568097251706774558945783868280922759258296679663070041973571553393316872521952709651144447877925635969235870860558232010777170915942671855412254521391964902307684006604029981233147506607086938193104115499398797263452663771250442412594705645020631530468094125139949293864348183420907488907536023498179572128108665619918567679683145242112059257769539554721229421296393173028135577669156540262532463917761139961539996535299959186284004578256680474740201440831088319027945992090340307225363479012506945466687972767533962650779511201253954598682419402502772132012167900084674536369691644333948769960724897431549415888628531730324723737428905223681159619660221918170291601376960112308456571878175768788423743554291609693067646033899867763371060123819637518290464656419104286644516340541581762350538289732578322751138564880165051087902078392349708372165547173864924505460155443909033415299513807818247666135379565790055444323664513115309602858363811829056840875426492530329784343687136975655090474922905685051195001152074278267981403062174528901675286298112265541053883916048624249894555913769181280796478007161488757188876929549304724919320536055588529773210571401708570945853917960606112173756768784381876901204210737675895226582852923618221175283858434652025591696234426641556380205284035859632009535032035165479467136628131037971556840227853621377088730487864272889770203616613146329187114744385123097596617708806299700499155415500680632055817381995176791371335147774341013926088943260442797993293404429948161348868488291767833984033777241322441974499740660961714473100042064874570274873517096108391736210344031531380942541520617499082786199666506568296034461006463191435201099468488595046108789777672632654136173680526940888551558626247133027453266492114108462969777117312517914179755173068313443983768107991918328442330531002753711862405958405382759907215260011392833697508392728698276491122920327262336512741629931261757122150400000000000000000000000000000000000000000000000000000000000000000000000000000000000000000000000000000000000000000000000000000000000000000000000000000000000000000000000000000000000000000000000000000000000000000000000000000000000000000000000000000000000000000000000000000000000000000000000000000000000000000000\n"
          ]
        }
      ]
    }
  ]
}