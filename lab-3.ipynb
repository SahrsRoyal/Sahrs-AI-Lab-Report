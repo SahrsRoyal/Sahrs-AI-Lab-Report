{
  "nbformat": 4,
  "nbformat_minor": 0,
  "metadata": {
    "colab": {
      "provenance": [],
      "authorship_tag": "ABX9TyN5Bqj5aRq7mTjMkvJFB9jY",
      "include_colab_link": true
    },
    "kernelspec": {
      "name": "python3",
      "display_name": "Python 3"
    },
    "language_info": {
      "name": "python"
    }
  },
  "cells": [
    {
      "cell_type": "markdown",
      "metadata": {
        "id": "view-in-github",
        "colab_type": "text"
      },
      "source": [
        "<a href=\"https://colab.research.google.com/github/SahrsRoyal/Sahrs-AI-Lab-Report/blob/main/lab-3.ipynb\" target=\"_parent\"><img src=\"https://colab.research.google.com/assets/colab-badge.svg\" alt=\"Open In Colab\"/></a>"
      ]
    },
    {
      "cell_type": "code",
      "execution_count": 2,
      "metadata": {
        "colab": {
          "base_uri": "https://localhost:8080/",
          "height": 339
        },
        "id": "vT2zxQHbT-_-",
        "outputId": "8faebc98-52c2-42c5-c48f-d8204bb98c21"
      },
      "outputs": [
        {
          "output_type": "error",
          "ename": "TypeError",
          "evalue": "ignored",
          "traceback": [
            "\u001b[0;31m---------------------------------------------------------------------------\u001b[0m",
            "\u001b[0;31mTypeError\u001b[0m                                 Traceback (most recent call last)",
            "\u001b[0;32m<ipython-input-2-debd484467c1>\u001b[0m in \u001b[0;36m<module>\u001b[0;34m\u001b[0m\n\u001b[1;32m     63\u001b[0m                    \u001b[0;32mreturn\u001b[0m \u001b[0msolution\u001b[0m\u001b[0;34m\u001b[0m\u001b[0;34m\u001b[0m\u001b[0m\n\u001b[1;32m     64\u001b[0m \u001b[0;34m\u001b[0m\u001b[0m\n\u001b[0;32m---> 65\u001b[0;31m \u001b[0msolution\u001b[0m \u001b[0;34m=\u001b[0m \u001b[0mBFS\u001b[0m\u001b[0;34m(\u001b[0m\u001b[0;34m)\u001b[0m\u001b[0;34m\u001b[0m\u001b[0;34m\u001b[0m\u001b[0m\n\u001b[0m\u001b[1;32m     66\u001b[0m \u001b[0mprint\u001b[0m\u001b[0;34m(\u001b[0m\u001b[0msolution\u001b[0m\u001b[0;34m)\u001b[0m\u001b[0;34m\u001b[0m\u001b[0;34m\u001b[0m\u001b[0m\n",
            "\u001b[0;32m<ipython-input-2-debd484467c1>\u001b[0m in \u001b[0;36mBFS\u001b[0;34m()\u001b[0m\n\u001b[1;32m     26\u001b[0m     \u001b[0minitialState\u001b[0m \u001b[0;34m=\u001b[0m \u001b[0;34m'Arad'\u001b[0m\u001b[0;34m\u001b[0m\u001b[0;34m\u001b[0m\u001b[0m\n\u001b[1;32m     27\u001b[0m     \u001b[0mgoalState\u001b[0m \u001b[0;34m=\u001b[0m \u001b[0;34m'Bucharest'\u001b[0m\u001b[0;34m\u001b[0m\u001b[0;34m\u001b[0m\u001b[0m\n\u001b[0;32m---> 28\u001b[0;31m     graph = {'Oradea': Node('Zerind', 'Sibiu'),\n\u001b[0m\u001b[1;32m     29\u001b[0m              \u001b[0;34m'B'\u001b[0m\u001b[0;34m:\u001b[0m \u001b[0mNode\u001b[0m\u001b[0;34m(\u001b[0m\u001b[0;34m'B'\u001b[0m\u001b[0;34m,\u001b[0m \u001b[0;32mNone\u001b[0m\u001b[0;34m,\u001b[0m \u001b[0;34m[\u001b[0m\u001b[0;34m'A'\u001b[0m\u001b[0;34m,\u001b[0m \u001b[0;34m'D'\u001b[0m\u001b[0;34m,\u001b[0m \u001b[0;34m'E'\u001b[0m\u001b[0;34m]\u001b[0m\u001b[0;34m,\u001b[0m\u001b[0;32mNone\u001b[0m\u001b[0;34m)\u001b[0m\u001b[0;34m,\u001b[0m\u001b[0;34m\u001b[0m\u001b[0;34m\u001b[0m\u001b[0m\n\u001b[1;32m     30\u001b[0m              \u001b[0;34m'C'\u001b[0m\u001b[0;34m:\u001b[0m \u001b[0mNode\u001b[0m\u001b[0;34m(\u001b[0m\u001b[0;34m'C'\u001b[0m\u001b[0;34m,\u001b[0m \u001b[0;32mNone\u001b[0m\u001b[0;34m,\u001b[0m \u001b[0;34m[\u001b[0m\u001b[0;34m'A'\u001b[0m\u001b[0;34m,\u001b[0m \u001b[0;34m'F'\u001b[0m\u001b[0;34m,\u001b[0m \u001b[0;34m'G'\u001b[0m\u001b[0;34m]\u001b[0m\u001b[0;34m,\u001b[0m\u001b[0;32mNone\u001b[0m\u001b[0;34m)\u001b[0m\u001b[0;34m,\u001b[0m\u001b[0;34m\u001b[0m\u001b[0;34m\u001b[0m\u001b[0m\n",
            "\u001b[0;31mTypeError\u001b[0m: __init__() missing 2 required positional arguments: 'actions' and 'totalCost'"
          ]
        }
      ],
      "source": [
        "class Node:\n",
        "    #state = state      # class variable shared by all instances\n",
        "\n",
        "    def __init__(self, state, parent, actions, totalCost):\n",
        "        \n",
        "        self.state = state\n",
        "        self.parent = parent\n",
        "        self.actions = actions\n",
        "\n",
        "        self.totalCost = totalCost\n",
        "\n",
        "node1 = Node(1, 2, 3, 4)\n",
        "\n",
        "\n",
        "graph = {'A': Node('A', None, ['B', 'C', 'E'],None),\n",
        "         'B': Node('B', None, ['A', 'D', 'E'],None),\n",
        "         'C': Node('C', None, ['A', 'F', 'G'],None),\n",
        "         'D': Node('D', None, ['B', 'E'],None),\n",
        "         'E': Node('E', None, ['A', 'B', 'D'],None),\n",
        "         'F': Node('F', None, ['C'],None),\n",
        "         'G': Node('G', None, ['C'],None),}\n",
        "\n",
        "\n",
        "\n",
        "def BFS():\n",
        "    initialState = 'Arad'\n",
        "    goalState = 'Bucharest'\n",
        "    graph = {'Oradea': Node('Zerind', 'Sibiu'),\n",
        "             'B': Node('B', None, ['A', 'D', 'E'],None),\n",
        "             'C': Node('C', None, ['A', 'F', 'G'],None),\n",
        "             'D': Node('D', None, ['B', 'E'],None),\n",
        "             'E': Node('E', None, ['A', 'B', 'D'],None),\n",
        "             'F': Node('F', None, ['C'],None),\n",
        "             'G': Node('G', None, ['C'],None),}\n",
        "    frontier = [initialState]\n",
        "    explored = []\n",
        "    while len(frontier) !=0:\n",
        "          currentNode = frontier.pop(0)\n",
        "          explored.append(currentNode)\n",
        "          for child in graph[currentNode].actions:\n",
        "              if child not in frontier and child not in explored:\n",
        "                  graph[child].parent=currentNode\n",
        "                  if graph[child].state==goalState:\n",
        "                        return actionSequence(graph, initialState, goalState)\n",
        "                  frontier.append(child)\n",
        "\n",
        "\n",
        "\n",
        "\n",
        "\n",
        "\n",
        "\n",
        "\n",
        "\n",
        "\n",
        "def actionSequence(graph, initialState, goalState):\n",
        "                   solution=[goalState]\n",
        "                   currentParent = graph[goalState].parent\n",
        "                   while currentParent!=None:\n",
        "                       solution.append(currentParent)\n",
        "                       currentParent = graph[currentParent].parent\n",
        "                   solution.reverse()\n",
        "                   return solution\n",
        "                   \n",
        "solution = BFS()\n",
        "print(solution)      \n"
      ]
    },
    {
      "cell_type": "code",
      "source": [
        "class Node:\n",
        "    #state = state      # class variable shared by all instances\n",
        "\n",
        "    def __init__(self, state, parent, actions, totalCost):\n",
        "        \n",
        "        self.state = state\n",
        "        self.parent = parent\n",
        "        self.actions = actions\n",
        "\n",
        "        self.totalCost = totalCost\n",
        "\n",
        "node1 = Node(1, 2, 3, 4)\n",
        "\n",
        "\n",
        "graph = {'A': Node('A', None, ['B', 'C', 'E'],None),\n",
        "         'B': Node('B', None, ['A', 'D', 'E'],None),\n",
        "         'C': Node('C', None, ['A', 'F', 'G'],None),\n",
        "         'D': Node('D', None, ['B', 'E'],None),\n",
        "         'E': Node('E', None, ['A', 'B', 'D'],None),\n",
        "         'F': Node('F', None, ['C'],None),\n",
        "         'G': Node('G', None, ['C'],None),}\n",
        "def BFS():\n",
        "    initialState = 'Start'\n",
        "    goalState = 'goal'\n",
        "    graph = {'Start': Node('Start',None,['1'],None),\n",
        "             '1': Node('1',None,['2'],None),\n",
        "             '2': Node('2',None,['3'],None),\n",
        "             '3': Node('3',None,['4','5'],None),\n",
        "             '4': Node('4',None,['6'],None),\n",
        "             '6': Node('6',None,['7'],None),\n",
        "             '7': Node('7',None,['8'],None),\n",
        "             '8': Node('8',None,['9'],None),\n",
        "             '9': Node('9',None,['10'],None),\n",
        "             '10': Node('10',None,['11'],None),\n",
        "             '11': Node('11',None,['12'],None),\n",
        "             '12':Node('12',None,['13'],None),\n",
        "             '13': Node('13',None,['14'],None),\n",
        "             '14': Node('14',None,['15'],None),\n",
        "             '15': Node('15',None,['goal','23'],None),\n",
        "             '5': Node('5',None,['16'],None),\n",
        "             '16': Node('16',None,['17','18'],None),\n",
        "             '17': Node('17',None,['19'],None),\n",
        "             '18': Node('18',None,['19'],None),\n",
        "             '19': Node('19',None,['20'],None),\n",
        "             '20': Node('20',None,['21'],None),\n",
        "             '21': Node('21',None,['20','22','23'],None),\n",
        "             '22': Node('22',None,['21'],None),\n",
        "             '23': Node('23',None,['21','24'],None),\n",
        "             '24': Node('24',None,['23','15'],None),\n",
        "             'goal':Node('goal',None,['15'],None)}\n",
        "    frontier = [initialState]\n",
        "    explored = []\n",
        "    while len(frontier) !=0:\n",
        "          currentNode = frontier.pop(0)\n",
        "          explored.append(currentNode)\n",
        "          for child in graph[currentNode].actions:\n",
        "              if child not in frontier and child not in explored:\n",
        "                  graph[child].parent=currentNode\n",
        "                  if graph[child].state==goalState:\n",
        "                        return actionSequence(graph, initialState, goalState)\n",
        "                  frontier.append(child)\n",
        "\n",
        "def actionSequence(graph, initialState, goalState):\n",
        "                   solution=[goalState]\n",
        "                   currentParent = graph[goalState].parent\n",
        "                   while currentParent!=None:\n",
        "                       solution.append(currentParent)\n",
        "                       currentParent = graph[currentParent].parent\n",
        "                   solution.reverse()\n",
        "                   return solution\n",
        "                   \n",
        "solution = BFS()\n",
        "print(solution) "
      ],
      "metadata": {
        "id": "Fe4qNAQ_UPiX"
      },
      "execution_count": null,
      "outputs": []
    },
    {
      "cell_type": "code",
      "source": [],
      "metadata": {
        "id": "cwPBgIOCUPqG"
      },
      "execution_count": null,
      "outputs": []
    }
  ]
}